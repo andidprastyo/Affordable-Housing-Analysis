{
 "cells": [
  {
   "attachments": {},
   "cell_type": "markdown",
   "metadata": {},
   "source": [
    "# Affordable Housing Analysis by Town 2011-2022"
   ]
  },
  {
   "cell_type": "markdown",
   "metadata": {},
   "source": [
    "### Import libraries"
   ]
  },
  {
   "cell_type": "code",
   "execution_count": 1,
   "metadata": {},
   "outputs": [],
   "source": [
    "import pandas as pd\n",
    "import numpy as np\n",
    "import matplotlib.pyplot as plt"
   ]
  },
  {
   "attachments": {},
   "cell_type": "markdown",
   "metadata": {},
   "source": [
    "### Initiating Dataset"
   ]
  },
  {
   "cell_type": "code",
   "execution_count": 2,
   "metadata": {},
   "outputs": [
    {
     "data": {
      "text/html": [
       "<div>\n",
       "<style scoped>\n",
       "    .dataframe tbody tr th:only-of-type {\n",
       "        vertical-align: middle;\n",
       "    }\n",
       "\n",
       "    .dataframe tbody tr th {\n",
       "        vertical-align: top;\n",
       "    }\n",
       "\n",
       "    .dataframe thead th {\n",
       "        text-align: right;\n",
       "    }\n",
       "</style>\n",
       "<table border=\"1\" class=\"dataframe\">\n",
       "  <thead>\n",
       "    <tr style=\"text-align: right;\">\n",
       "      <th></th>\n",
       "      <th>Year</th>\n",
       "      <th>Town Code</th>\n",
       "      <th>Town</th>\n",
       "      <th>2010 Census Units</th>\n",
       "      <th>Government Assisted</th>\n",
       "      <th>Tenant Rental Assistance</th>\n",
       "      <th>Single Family CHFA/ USDA Mortgages</th>\n",
       "      <th>Deed Restricted Units</th>\n",
       "      <th>Total Assisted Units</th>\n",
       "      <th>Percent Affordable</th>\n",
       "    </tr>\n",
       "  </thead>\n",
       "  <tbody>\n",
       "    <tr>\n",
       "      <th>0</th>\n",
       "      <td>2020</td>\n",
       "      <td>1</td>\n",
       "      <td>Andover</td>\n",
       "      <td>1317</td>\n",
       "      <td>18.0</td>\n",
       "      <td>1</td>\n",
       "      <td>32</td>\n",
       "      <td>0</td>\n",
       "      <td>51</td>\n",
       "      <td>3.87</td>\n",
       "    </tr>\n",
       "    <tr>\n",
       "      <th>1</th>\n",
       "      <td>2020</td>\n",
       "      <td>2</td>\n",
       "      <td>Ansonia</td>\n",
       "      <td>8148</td>\n",
       "      <td>349.0</td>\n",
       "      <td>764</td>\n",
       "      <td>147</td>\n",
       "      <td>0</td>\n",
       "      <td>1260</td>\n",
       "      <td>15.46</td>\n",
       "    </tr>\n",
       "    <tr>\n",
       "      <th>2</th>\n",
       "      <td>2020</td>\n",
       "      <td>3</td>\n",
       "      <td>Ashford</td>\n",
       "      <td>1903</td>\n",
       "      <td>32.0</td>\n",
       "      <td>0</td>\n",
       "      <td>36</td>\n",
       "      <td>0</td>\n",
       "      <td>68</td>\n",
       "      <td>3.57</td>\n",
       "    </tr>\n",
       "    <tr>\n",
       "      <th>3</th>\n",
       "      <td>2020</td>\n",
       "      <td>4</td>\n",
       "      <td>Avon</td>\n",
       "      <td>7389</td>\n",
       "      <td>244.0</td>\n",
       "      <td>16</td>\n",
       "      <td>44</td>\n",
       "      <td>0</td>\n",
       "      <td>304</td>\n",
       "      <td>4.11</td>\n",
       "    </tr>\n",
       "    <tr>\n",
       "      <th>4</th>\n",
       "      <td>2020</td>\n",
       "      <td>5</td>\n",
       "      <td>Barkhamsted</td>\n",
       "      <td>1589</td>\n",
       "      <td>0.0</td>\n",
       "      <td>6</td>\n",
       "      <td>23</td>\n",
       "      <td>0</td>\n",
       "      <td>29</td>\n",
       "      <td>1.83</td>\n",
       "    </tr>\n",
       "  </tbody>\n",
       "</table>\n",
       "</div>"
      ],
      "text/plain": [
       "   Year  Town Code         Town  2010 Census Units  Government Assisted  \\\n",
       "0  2020          1      Andover               1317                 18.0   \n",
       "1  2020          2      Ansonia               8148                349.0   \n",
       "2  2020          3      Ashford               1903                 32.0   \n",
       "3  2020          4         Avon               7389                244.0   \n",
       "4  2020          5  Barkhamsted               1589                  0.0   \n",
       "\n",
       "   Tenant Rental Assistance   Single Family CHFA/ USDA Mortgages  \\\n",
       "0                         1                                   32   \n",
       "1                       764                                  147   \n",
       "2                         0                                   36   \n",
       "3                        16                                   44   \n",
       "4                         6                                   23   \n",
       "\n",
       "   Deed Restricted Units  Total Assisted Units  Percent Affordable  \n",
       "0                      0                    51                3.87  \n",
       "1                      0                  1260               15.46  \n",
       "2                      0                    68                3.57  \n",
       "3                      0                   304                4.11  \n",
       "4                      0                    29                1.83  "
      ]
     },
     "execution_count": 2,
     "metadata": {},
     "output_type": "execute_result"
    }
   ],
   "source": [
    "# baca data \n",
    "df = pd.read_csv('./Affordable_Housing_by_Town_2011-2022.csv')\n",
    "df.head()"
   ]
  },
  {
   "cell_type": "code",
   "execution_count": 3,
   "metadata": {},
   "outputs": [
    {
     "data": {
      "text/html": [
       "<div>\n",
       "<style scoped>\n",
       "    .dataframe tbody tr th:only-of-type {\n",
       "        vertical-align: middle;\n",
       "    }\n",
       "\n",
       "    .dataframe tbody tr th {\n",
       "        vertical-align: top;\n",
       "    }\n",
       "\n",
       "    .dataframe thead th {\n",
       "        text-align: right;\n",
       "    }\n",
       "</style>\n",
       "<table border=\"1\" class=\"dataframe\">\n",
       "  <thead>\n",
       "    <tr style=\"text-align: right;\">\n",
       "      <th></th>\n",
       "      <th>Year</th>\n",
       "      <th>Town Code</th>\n",
       "      <th>2010 Census Units</th>\n",
       "      <th>Government Assisted</th>\n",
       "      <th>Tenant Rental Assistance</th>\n",
       "      <th>Single Family CHFA/ USDA Mortgages</th>\n",
       "      <th>Deed Restricted Units</th>\n",
       "      <th>Total Assisted Units</th>\n",
       "      <th>Percent Affordable</th>\n",
       "    </tr>\n",
       "  </thead>\n",
       "  <tbody>\n",
       "    <tr>\n",
       "      <th>count</th>\n",
       "      <td>2025.000000</td>\n",
       "      <td>2025.000000</td>\n",
       "      <td>2025.000000</td>\n",
       "      <td>2024.000000</td>\n",
       "      <td>2025.000000</td>\n",
       "      <td>2025.000000</td>\n",
       "      <td>2025.000000</td>\n",
       "      <td>2025.000000</td>\n",
       "      <td>2025.000000</td>\n",
       "    </tr>\n",
       "    <tr>\n",
       "      <th>mean</th>\n",
       "      <td>2016.502222</td>\n",
       "      <td>84.921481</td>\n",
       "      <td>8802.104691</td>\n",
       "      <td>537.576581</td>\n",
       "      <td>263.554568</td>\n",
       "      <td>165.792593</td>\n",
       "      <td>32.701235</td>\n",
       "      <td>999.359506</td>\n",
       "      <td>6.196923</td>\n",
       "    </tr>\n",
       "    <tr>\n",
       "      <th>std</th>\n",
       "      <td>3.454979</td>\n",
       "      <td>48.838316</td>\n",
       "      <td>10447.314222</td>\n",
       "      <td>1339.781673</td>\n",
       "      <td>933.519526</td>\n",
       "      <td>284.399177</td>\n",
       "      <td>124.038899</td>\n",
       "      <td>2522.972459</td>\n",
       "      <td>6.159299</td>\n",
       "    </tr>\n",
       "    <tr>\n",
       "      <th>min</th>\n",
       "      <td>2011.000000</td>\n",
       "      <td>1.000000</td>\n",
       "      <td>388.000000</td>\n",
       "      <td>0.000000</td>\n",
       "      <td>0.000000</td>\n",
       "      <td>0.000000</td>\n",
       "      <td>0.000000</td>\n",
       "      <td>0.000000</td>\n",
       "      <td>0.000000</td>\n",
       "    </tr>\n",
       "    <tr>\n",
       "      <th>25%</th>\n",
       "      <td>2013.000000</td>\n",
       "      <td>43.000000</td>\n",
       "      <td>2306.000000</td>\n",
       "      <td>24.000000</td>\n",
       "      <td>2.000000</td>\n",
       "      <td>18.000000</td>\n",
       "      <td>0.000000</td>\n",
       "      <td>51.000000</td>\n",
       "      <td>2.170000</td>\n",
       "    </tr>\n",
       "    <tr>\n",
       "      <th>50%</th>\n",
       "      <td>2017.000000</td>\n",
       "      <td>85.000000</td>\n",
       "      <td>5451.000000</td>\n",
       "      <td>137.000000</td>\n",
       "      <td>7.000000</td>\n",
       "      <td>51.000000</td>\n",
       "      <td>0.000000</td>\n",
       "      <td>220.000000</td>\n",
       "      <td>4.230000</td>\n",
       "    </tr>\n",
       "    <tr>\n",
       "      <th>75%</th>\n",
       "      <td>2020.000000</td>\n",
       "      <td>127.000000</td>\n",
       "      <td>10061.000000</td>\n",
       "      <td>377.000000</td>\n",
       "      <td>88.000000</td>\n",
       "      <td>186.000000</td>\n",
       "      <td>17.000000</td>\n",
       "      <td>684.000000</td>\n",
       "      <td>7.730000</td>\n",
       "    </tr>\n",
       "    <tr>\n",
       "      <th>max</th>\n",
       "      <td>2022.000000</td>\n",
       "      <td>169.000000</td>\n",
       "      <td>57012.000000</td>\n",
       "      <td>10733.000000</td>\n",
       "      <td>9132.000000</td>\n",
       "      <td>2429.000000</td>\n",
       "      <td>1295.000000</td>\n",
       "      <td>21122.000000</td>\n",
       "      <td>40.760000</td>\n",
       "    </tr>\n",
       "  </tbody>\n",
       "</table>\n",
       "</div>"
      ],
      "text/plain": [
       "              Year    Town Code  2010 Census Units  Government Assisted  \\\n",
       "count  2025.000000  2025.000000        2025.000000          2024.000000   \n",
       "mean   2016.502222    84.921481        8802.104691           537.576581   \n",
       "std       3.454979    48.838316       10447.314222          1339.781673   \n",
       "min    2011.000000     1.000000         388.000000             0.000000   \n",
       "25%    2013.000000    43.000000        2306.000000            24.000000   \n",
       "50%    2017.000000    85.000000        5451.000000           137.000000   \n",
       "75%    2020.000000   127.000000       10061.000000           377.000000   \n",
       "max    2022.000000   169.000000       57012.000000         10733.000000   \n",
       "\n",
       "       Tenant Rental Assistance   Single Family CHFA/ USDA Mortgages  \\\n",
       "count               2025.000000                          2025.000000   \n",
       "mean                 263.554568                           165.792593   \n",
       "std                  933.519526                           284.399177   \n",
       "min                    0.000000                             0.000000   \n",
       "25%                    2.000000                            18.000000   \n",
       "50%                    7.000000                            51.000000   \n",
       "75%                   88.000000                           186.000000   \n",
       "max                 9132.000000                          2429.000000   \n",
       "\n",
       "       Deed Restricted Units  Total Assisted Units  Percent Affordable  \n",
       "count            2025.000000           2025.000000         2025.000000  \n",
       "mean               32.701235            999.359506            6.196923  \n",
       "std               124.038899           2522.972459            6.159299  \n",
       "min                 0.000000              0.000000            0.000000  \n",
       "25%                 0.000000             51.000000            2.170000  \n",
       "50%                 0.000000            220.000000            4.230000  \n",
       "75%                17.000000            684.000000            7.730000  \n",
       "max              1295.000000          21122.000000           40.760000  "
      ]
     },
     "execution_count": 3,
     "metadata": {},
     "output_type": "execute_result"
    }
   ],
   "source": [
    "df.describe()"
   ]
  },
  {
   "cell_type": "code",
   "execution_count": 4,
   "metadata": {},
   "outputs": [
    {
     "name": "stdout",
     "output_type": "stream",
     "text": [
      "<class 'pandas.core.frame.DataFrame'>\n",
      "RangeIndex: 2025 entries, 0 to 2024\n",
      "Data columns (total 10 columns):\n",
      " #   Column                               Non-Null Count  Dtype  \n",
      "---  ------                               --------------  -----  \n",
      " 0   Year                                 2025 non-null   int64  \n",
      " 1   Town Code                            2025 non-null   int64  \n",
      " 2   Town                                 2025 non-null   object \n",
      " 3   2010 Census Units                    2025 non-null   int64  \n",
      " 4   Government Assisted                  2024 non-null   float64\n",
      " 5   Tenant Rental Assistance             2025 non-null   int64  \n",
      " 6    Single Family CHFA/ USDA Mortgages  2025 non-null   int64  \n",
      " 7   Deed Restricted Units                2025 non-null   int64  \n",
      " 8   Total Assisted Units                 2025 non-null   int64  \n",
      " 9   Percent Affordable                   2025 non-null   float64\n",
      "dtypes: float64(2), int64(7), object(1)\n",
      "memory usage: 158.3+ KB\n"
     ]
    }
   ],
   "source": [
    "df.info()"
   ]
  },
  {
   "cell_type": "code",
   "execution_count": 5,
   "metadata": {},
   "outputs": [
    {
     "data": {
      "text/plain": [
       "Year                                   0\n",
       "Town Code                              0\n",
       "Town                                   0\n",
       "2010 Census Units                      0\n",
       "Government Assisted                    1\n",
       "Tenant Rental Assistance               0\n",
       " Single Family CHFA/ USDA Mortgages    0\n",
       "Deed Restricted Units                  0\n",
       "Total Assisted Units                   0\n",
       "Percent Affordable                     0\n",
       "dtype: int64"
      ]
     },
     "execution_count": 5,
     "metadata": {},
     "output_type": "execute_result"
    }
   ],
   "source": [
    "df.isnull().sum()"
   ]
  },
  {
   "cell_type": "code",
   "execution_count": 11,
   "metadata": {},
   "outputs": [],
   "source": [
    "df.fillna(0, inplace=True)"
   ]
  },
  {
   "attachments": {},
   "cell_type": "markdown",
   "metadata": {},
   "source": [
    "### Descriptive Statistics of 2010 Census Units Column"
   ]
  },
  {
   "cell_type": "code",
   "execution_count": 12,
   "metadata": {},
   "outputs": [
    {
     "data": {
      "text/plain": [
       "count     2025.000000\n",
       "mean      8802.104691\n",
       "std      10447.314222\n",
       "min        388.000000\n",
       "25%       2306.000000\n",
       "50%       5451.000000\n",
       "75%      10061.000000\n",
       "max      57012.000000\n",
       "Name: 2010 Census Units, dtype: float64"
      ]
     },
     "execution_count": 12,
     "metadata": {},
     "output_type": "execute_result"
    }
   ],
   "source": [
    "df['2010 Census Units'].describe()"
   ]
  },
  {
   "cell_type": "code",
   "execution_count": 13,
   "metadata": {},
   "outputs": [
    {
     "data": {
      "text/plain": [
       "0    793\n",
       "dtype: int64"
      ]
     },
     "execution_count": 13,
     "metadata": {},
     "output_type": "execute_result"
    }
   ],
   "source": [
    "df['2010 Census Units'].mode()"
   ]
  },
  {
   "attachments": {},
   "cell_type": "markdown",
   "metadata": {},
   "source": [
    "### Calculating IQR of the same Columns"
   ]
  },
  {
   "cell_type": "code",
   "execution_count": 8,
   "metadata": {},
   "outputs": [
    {
     "name": "stdout",
     "output_type": "stream",
     "text": [
      "IQR :7755.0\n"
     ]
    }
   ],
   "source": [
    "iqr = df['2010 Census Units'].quantile(0.75) - df['2010 Census Units'].quantile(0.25)\n",
    "print(f'IQR :{iqr}')"
   ]
  },
  {
   "attachments": {},
   "cell_type": "markdown",
   "metadata": {},
   "source": [
    "### Calculating the Upper and Lower Bounds"
   ]
  },
  {
   "cell_type": "code",
   "execution_count": 9,
   "metadata": {},
   "outputs": [
    {
     "name": "stdout",
     "output_type": "stream",
     "text": [
      "Upper bounds : 21693.5\n",
      "Lower bounds : -9326.5\n"
     ]
    }
   ],
   "source": [
    "upper_bounds = df['2010 Census Units'].quantile(0.75) + (1.5*iqr)\n",
    "lower_bounds = df['2010 Census Units'].quantile(0.25) - (1.5*iqr)\n",
    "\n",
    "print(f'Upper bounds : {upper_bounds}')\n",
    "print(f'Lower bounds : {lower_bounds}')"
   ]
  },
  {
   "attachments": {},
   "cell_type": "markdown",
   "metadata": {},
   "source": [
    "### Plotting the Histogram"
   ]
  },
  {
   "cell_type": "code",
   "execution_count": 10,
   "metadata": {},
   "outputs": [
    {
     "data": {
      "image/png": "[encoded data removed]",
      "text/plain": [
       "<Figure size 432x288 with 1 Axes>"
      ]
     },
     "metadata": {
      "needs_background": "light"
     },
     "output_type": "display_data"
    }
   ],
   "source": [
    "plt.hist(df['2010 Census Units'], bins=20)\n",
    "plt.xlabel('2010 Census Units')\n",
    "plt.ylabel('count')\n",
    "plt.title('2010 Census Units Distribution')\n",
    "plt.show()"
   ]
  },
  {
   "cell_type": "markdown",
   "metadata": {},
   "source": [
    "### Plotting the Boxplot"
   ]
  },
  {
   "cell_type": "code",
   "execution_count": 14,
   "metadata": {},
   "outputs": [
    {
     "data": {
      "text/plain": [
       "{'whiskers': [<matplotlib.lines.Line2D at 0x7f49bc74c5d0>,\n",
       "  <matplotlib.lines.Line2D at 0x7f49bc74cb10>],\n",
       " 'caps': [<matplotlib.lines.Line2D at 0x7f49bc74ce50>,\n",
       "  <matplotlib.lines.Line2D at 0x7f49bc7541d0>],\n",
       " 'boxes': [<matplotlib.lines.Line2D at 0x7f49bc74c590>],\n",
       " 'medians': [<matplotlib.lines.Line2D at 0x7f49bc754550>],\n",
       " 'fliers': [<matplotlib.lines.Line2D at 0x7f49bc754890>],\n",
       " 'means': []}"
      ]
     },
     "execution_count": 14,
     "metadata": {},
     "output_type": "execute_result"
    },
    {
     "data": {
      "image/png": "[encoded data removed]",
      "text/plain": [
       "<Figure size 432x288 with 1 Axes>"
      ]
     },
     "metadata": {
      "needs_background": "light"
     },
     "output_type": "display_data"
    }
   ],
   "source": [
    "plt.boxplot(df['2010 Census Units'])"
   ]
  }
 ],
 "metadata": {
  "kernelspec": {
   "display_name": "Python 3",
   "language": "python",
   "name": "python3"
  },
  "language_info": {
   "codemirror_mode": {
    "name": "ipython",
    "version": 3
   },
   "file_extension": ".py",
   "mimetype": "text/x-python",
   "name": "python",
   "nbconvert_exporter": "python",
   "pygments_lexer": "ipython3",
   "version": "3.7.6"
  },
  "orig_nbformat": 4
 },
 "nbformat": 4,
 "nbformat_minor": 2
}
