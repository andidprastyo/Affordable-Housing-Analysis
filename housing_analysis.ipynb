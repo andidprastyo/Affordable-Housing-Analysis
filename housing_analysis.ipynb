{
 "cells": [
  {
   "attachments": {},
   "cell_type": "markdown",
   "metadata": {},
   "source": [
    "# Affordable Housing Analysis by Town 2011-2022"
   ]
  },
  {
   "attachments": {},
   "cell_type": "markdown",
   "metadata": {},
   "source": [
    "### Initiating Dataset"
   ]
  },
  {
   "cell_type": "code",
   "execution_count": 2,
   "metadata": {},
   "outputs": [
    {
     "data": {
      "text/html": [
       "<div>\n",
       "<style scoped>\n",
       "    .dataframe tbody tr th:only-of-type {\n",
       "        vertical-align: middle;\n",
       "    }\n",
       "\n",
       "    .dataframe tbody tr th {\n",
       "        vertical-align: top;\n",
       "    }\n",
       "\n",
       "    .dataframe thead th {\n",
       "        text-align: right;\n",
       "    }\n",
       "</style>\n",
       "<table border=\"1\" class=\"dataframe\">\n",
       "  <thead>\n",
       "    <tr style=\"text-align: right;\">\n",
       "      <th></th>\n",
       "      <th>Year</th>\n",
       "      <th>Town Code</th>\n",
       "      <th>Town</th>\n",
       "      <th>2010 Census Units</th>\n",
       "      <th>Government Assisted</th>\n",
       "      <th>Tenant Rental Assistance</th>\n",
       "      <th>Single Family CHFA/ USDA Mortgages</th>\n",
       "      <th>Deed Restricted Units</th>\n",
       "      <th>Total Assisted Units</th>\n",
       "      <th>Percent Affordable</th>\n",
       "    </tr>\n",
       "  </thead>\n",
       "  <tbody>\n",
       "    <tr>\n",
       "      <th>0</th>\n",
       "      <td>2020</td>\n",
       "      <td>1</td>\n",
       "      <td>Andover</td>\n",
       "      <td>1317</td>\n",
       "      <td>18.0</td>\n",
       "      <td>1</td>\n",
       "      <td>32</td>\n",
       "      <td>0</td>\n",
       "      <td>51</td>\n",
       "      <td>3.87</td>\n",
       "    </tr>\n",
       "    <tr>\n",
       "      <th>1</th>\n",
       "      <td>2020</td>\n",
       "      <td>2</td>\n",
       "      <td>Ansonia</td>\n",
       "      <td>8148</td>\n",
       "      <td>349.0</td>\n",
       "      <td>764</td>\n",
       "      <td>147</td>\n",
       "      <td>0</td>\n",
       "      <td>1260</td>\n",
       "      <td>15.46</td>\n",
       "    </tr>\n",
       "    <tr>\n",
       "      <th>2</th>\n",
       "      <td>2020</td>\n",
       "      <td>3</td>\n",
       "      <td>Ashford</td>\n",
       "      <td>1903</td>\n",
       "      <td>32.0</td>\n",
       "      <td>0</td>\n",
       "      <td>36</td>\n",
       "      <td>0</td>\n",
       "      <td>68</td>\n",
       "      <td>3.57</td>\n",
       "    </tr>\n",
       "    <tr>\n",
       "      <th>3</th>\n",
       "      <td>2020</td>\n",
       "      <td>4</td>\n",
       "      <td>Avon</td>\n",
       "      <td>7389</td>\n",
       "      <td>244.0</td>\n",
       "      <td>16</td>\n",
       "      <td>44</td>\n",
       "      <td>0</td>\n",
       "      <td>304</td>\n",
       "      <td>4.11</td>\n",
       "    </tr>\n",
       "    <tr>\n",
       "      <th>4</th>\n",
       "      <td>2020</td>\n",
       "      <td>5</td>\n",
       "      <td>Barkhamsted</td>\n",
       "      <td>1589</td>\n",
       "      <td>0.0</td>\n",
       "      <td>6</td>\n",
       "      <td>23</td>\n",
       "      <td>0</td>\n",
       "      <td>29</td>\n",
       "      <td>1.83</td>\n",
       "    </tr>\n",
       "  </tbody>\n",
       "</table>\n",
       "</div>"
      ],
      "text/plain": [
       "   Year  Town Code         Town  2010 Census Units  Government Assisted   \n",
       "0  2020          1      Andover               1317                 18.0  \\\n",
       "1  2020          2      Ansonia               8148                349.0   \n",
       "2  2020          3      Ashford               1903                 32.0   \n",
       "3  2020          4         Avon               7389                244.0   \n",
       "4  2020          5  Barkhamsted               1589                  0.0   \n",
       "\n",
       "   Tenant Rental Assistance   Single Family CHFA/ USDA Mortgages   \n",
       "0                         1                                   32  \\\n",
       "1                       764                                  147   \n",
       "2                         0                                   36   \n",
       "3                        16                                   44   \n",
       "4                         6                                   23   \n",
       "\n",
       "   Deed Restricted Units  Total Assisted Units  Percent Affordable  \n",
       "0                      0                    51                3.87  \n",
       "1                      0                  1260               15.46  \n",
       "2                      0                    68                3.57  \n",
       "3                      0                   304                4.11  \n",
       "4                      0                    29                1.83  "
      ]
     },
     "execution_count": 2,
     "metadata": {},
     "output_type": "execute_result"
    }
   ],
   "source": [
    "import pandas as pd\n",
    "\n",
    "# baca data \n",
    "df = pd.read_csv('Affordable_Housing_by_Town_2011-2022.csv')\n",
    "df.head()"
   ]
  },
  {
   "attachments": {},
   "cell_type": "markdown",
   "metadata": {},
   "source": [
    "### Mean, Median and Mode by Census Units"
   ]
  },
  {
   "cell_type": "code",
   "execution_count": 5,
   "metadata": {},
   "outputs": [
    {
     "name": "stdout",
     "output_type": "stream",
     "text": [
      "2010 Census Units mean: 8802.104691358025\n",
      "2010 Census Units median: 5451.0\n",
      "2010 Census Units mode: 793\n"
     ]
    }
   ],
   "source": [
    "# calculate the mean of the census units\n",
    "\n",
    "mean = df['2010 Census Units'].mean()\n",
    "print(f'2010 Census Units mean: {mean}')\n",
    "\n",
    "# calculate the median of the census units\n",
    "\n",
    "median = df['2010 Census Units'].median()\n",
    "print(f'2010 Census Units median: {median}')\n",
    "\n",
    "# calculate the mode of the census units\n",
    "mode = df['2010 Census Units'].mode()\n",
    "print(f'2010 Census Units mode: {mode[0]}')"
   ]
  },
  {
   "attachments": {},
   "cell_type": "markdown",
   "metadata": {},
   "source": [
    "### Calculating the Quartiles and IQR"
   ]
  },
  {
   "cell_type": "code",
   "execution_count": 6,
   "metadata": {},
   "outputs": [
    {
     "name": "stdout",
     "output_type": "stream",
     "text": [
      "Q1: 2306.0\n",
      "Q2: 5451.0\n",
      "Q3: 10061.0\n",
      "IQR: 7755.0\n"
     ]
    }
   ],
   "source": [
    "import numpy as np\n",
    "\n",
    "q1 = np.quantile(df['2010 Census Units'], 0.25)\n",
    "q2 = np.quantile(df['2010 Census Units'], 0.50)\n",
    "q3 = np.quantile(df['2010 Census Units'], 0.75)\n",
    "iqr = q3 - q1\n",
    "\n",
    "print(f'Q1: {q1}')\n",
    "print(f'Q2: {q2}')\n",
    "print(f'Q3: {q3}')\n",
    "print(f'IQR: {iqr}')"
   ]
  },
  {
   "attachments": {},
   "cell_type": "markdown",
   "metadata": {},
   "source": [
    "### Calculating the Upper and Lower Bounds"
   ]
  },
  {
   "cell_type": "code",
   "execution_count": 7,
   "metadata": {},
   "outputs": [
    {
     "name": "stdout",
     "output_type": "stream",
     "text": [
      "Upper bounds: 21693.5\n",
      "Lower bounds: -9326.5\n"
     ]
    }
   ],
   "source": [
    "up_bounds = q3 + 1.5 * iqr\n",
    "low_bounds = q1 - 1.5 * iqr\n",
    "\n",
    "print(f'Upper bounds: {up_bounds}')\n",
    "print(f'Lower bounds: {low_bounds}')"
   ]
  },
  {
   "attachments": {},
   "cell_type": "markdown",
   "metadata": {},
   "source": [
    "### Plotting the Histogram"
   ]
  },
  {
   "cell_type": "code",
   "execution_count": 10,
   "metadata": {},
   "outputs": [
    {
     "data": {
      "image/png": "[encoded data removed]",
      "text/plain": [
       "<Figure size 640x480 with 1 Axes>"
      ]
     },
     "metadata": {},
     "output_type": "display_data"
    }
   ],
   "source": [
    "import matplotlib.pyplot as plt\n",
    "\n",
    "# plot the histogram\n",
    "\n",
    "plt.hist(df['2010 Census Units'], bins=20)\n",
    "plt.xlabel('2010 Census Units')\n",
    "plt.ylabel('count')\n",
    "plt.title('2010 Census Units Distribution')\n",
    "plt.show()"
   ]
  }
 ],
 "metadata": {
  "kernelspec": {
   "display_name": "Python 3",
   "language": "python",
   "name": "python3"
  },
  "language_info": {
   "codemirror_mode": {
    "name": "ipython",
    "version": 3
   },
   "file_extension": ".py",
   "mimetype": "text/x-python",
   "name": "python",
   "nbconvert_exporter": "python",
   "pygments_lexer": "ipython3",
   "version": "3.10.9"
  },
  "orig_nbformat": 4
 },
 "nbformat": 4,
 "nbformat_minor": 2
}
